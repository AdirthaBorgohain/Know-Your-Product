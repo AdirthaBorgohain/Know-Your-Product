{
 "cells": [
  {
   "cell_type": "code",
   "execution_count": 2,
   "id": "45dd10fb",
   "metadata": {},
   "outputs": [],
   "source": [
    "import swifter\n",
    "import numpy as np\n",
    "import pandas as pd\n",
    "from tqdm import tqdm\n",
    "\n",
    "import tensorflow as tf\n",
    "from transformers import DistilBertTokenizerFast\n",
    "from transformers import TFDistilBertForSequenceClassification"
   ]
  },
  {
   "cell_type": "code",
   "execution_count": 23,
   "id": "874aef45",
   "metadata": {},
   "outputs": [],
   "source": [
    "excel_file = 'data/sephora_review (5 products).xlsx'\n",
    "xls = pd.ExcelFile(excel_file)"
   ]
  },
  {
   "cell_type": "code",
   "execution_count": 6,
   "id": "9bec23a0",
   "metadata": {},
   "outputs": [
    {
     "name": "stderr",
     "output_type": "stream",
     "text": [
      "Some layers from the model checkpoint at models/sent_analyzer were not used when initializing TFDistilBertForSequenceClassification: ['dropout_119']\n",
      "- This IS expected if you are initializing TFDistilBertForSequenceClassification from the checkpoint of a model trained on another task or with another architecture (e.g. initializing a BertForSequenceClassification model from a BertForPreTraining model).\n",
      "- This IS NOT expected if you are initializing TFDistilBertForSequenceClassification from the checkpoint of a model that you expect to be exactly identical (initializing a BertForSequenceClassification model from a BertForSequenceClassification model).\n",
      "Some layers of TFDistilBertForSequenceClassification were not initialized from the model checkpoint at models/sent_analyzer and are newly initialized: ['dropout_59']\n",
      "You should probably TRAIN this model on a down-stream task to be able to use it for predictions and inference.\n"
     ]
    }
   ],
   "source": [
    "tokenizer = DistilBertTokenizerFast.from_pretrained('distilbert-base-uncased-finetuned-sst-2-english')\n",
    "model = TFDistilBertForSequenceClassification.from_pretrained('models/sent_analyzer')\n",
    "sentiment_labels = ['Negative', 'Positive']"
   ]
  },
  {
   "cell_type": "code",
   "execution_count": 26,
   "id": "6a5cad19",
   "metadata": {},
   "outputs": [],
   "source": [
    "def analyze_sentiment(text):\n",
    "    tokenized_input = tokenizer.encode(text, truncation=True, padding=True, max_length=128,\n",
    "                                       return_tensors=\"tf\")\n",
    "    tf_output = model.predict(tokenized_input)[0]\n",
    "    tf_prediction = tf.nn.softmax(tf_output, axis=1)\n",
    "    label = tf.argmax(tf_prediction, axis=1).numpy()\n",
    "    return label[0]"
   ]
  },
  {
   "cell_type": "code",
   "execution_count": 39,
   "id": "a323c872",
   "metadata": {},
   "outputs": [],
   "source": [
    "def get_product_sentiment(product: str):\n",
    "    df = pd.read_excel(xls, product)\n",
    "    df = df[df['review_text'].notna()]\n",
    "    df['sentiment'] = df['review_text'].swifter.apply(lambda x: analyze_sentiment(x))\n",
    "    \n",
    "    for skin_type in ['dry', 'oily', 'normal', 'combination']:\n",
    "        skin_df = df[df['skin_type'] == skin_type]\n",
    "        sentiment_dict = skin_df['sentiment'].value_counts().to_dict()\n",
    "        pos_percent = round((sentiment_dict.get(1, 0)/sum(sentiment_dict.values())) * 100, 2)\n",
    "        neg_percent = round((sentiment_dict.get(0, 0)/sum(sentiment_dict.values())) * 100, 2)\n",
    "        print(f\"For {product}, out of {len(skin_df)} people with {skin_type} skin type, {pos_percent}% \" \\\n",
    "              f\"posted positive reviews while {neg_percent}% posted negative reviews.\")\n",
    "        print()"
   ]
  },
  {
   "cell_type": "code",
   "execution_count": 41,
   "id": "2a0feb6b",
   "metadata": {},
   "outputs": [
    {
     "data": {
      "application/vnd.jupyter.widget-view+json": {
       "model_id": "a48e3570c5094b2388aeb71918e55bd2",
       "version_major": 2,
       "version_minor": 0
      },
      "text/plain": [
       "Pandas Apply:   0%|          | 0/120 [00:00<?, ?it/s]"
      ]
     },
     "metadata": {},
     "output_type": "display_data"
    },
    {
     "name": "stdout",
     "output_type": "stream",
     "text": [
      "For Product 3, out of 43 people, 90.7% of people with dry skin type posted positive reviews while 9.3% posted negative reviews.\n",
      "\n",
      "For Product 3, out of 10 people, 100.0% of people with oily skin type posted positive reviews while 0.0% posted negative reviews.\n",
      "\n",
      "For Product 3, out of 13 people, 84.62% of people with normal skin type posted positive reviews while 15.38% posted negative reviews.\n",
      "\n",
      "For Product 3, out of 54 people, 90.74% of people with combination skin type posted positive reviews while 9.26% posted negative reviews.\n",
      "\n"
     ]
    }
   ],
   "source": [
    "get_product_sentiment(product=\"Product 3\")"
   ]
  }
 ],
 "metadata": {
  "kernelspec": {
   "display_name": "fiverr",
   "language": "python",
   "name": "fiverr"
  },
  "language_info": {
   "codemirror_mode": {
    "name": "ipython",
    "version": 3
   },
   "file_extension": ".py",
   "mimetype": "text/x-python",
   "name": "python",
   "nbconvert_exporter": "python",
   "pygments_lexer": "ipython3",
   "version": "3.6.13"
  }
 },
 "nbformat": 4,
 "nbformat_minor": 5
}
